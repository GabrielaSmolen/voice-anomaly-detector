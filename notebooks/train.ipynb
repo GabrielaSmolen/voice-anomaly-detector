{
 "cells": [
  {
   "cell_type": "code",
   "execution_count": 2,
   "id": "c0b8d242-d90a-4884-829f-b766fa2ac132",
   "metadata": {},
   "outputs": [],
   "source": [
    "import sys\n",
    "import json\n",
    "import pandas as pd\n",
    "import numpy as np\n",
    "sys.path.insert(1, 'C:/Users/Admin/Projects/voice-anomaly-detector')\n",
    "\n",
    "from sklearn.svm import SVC\n",
    "from sklearn import preprocessing\n",
    "from sklearn.ensemble import RandomForestClassifier\n",
    "from sklearn.linear_model import LogisticRegression\n",
    "from sklearn.model_selection import StratifiedKFold\n",
    "from sklearn.metrics import f1_score, classification_report\n",
    "\n",
    "from models.baseline import Baseline\n",
    "from models.lightgbm_interface import LightGBMInterface"
   ]
  },
  {
   "cell_type": "code",
   "execution_count": 3,
   "id": "bc15dca6-8e91-4dfc-bb44-29c5d048f5ff",
   "metadata": {},
   "outputs": [],
   "source": [
    "columns = ['Zero crossings', 'Centroid AUC', 'Rolloff AUC', 'Centroid mean',\n",
    "       'Rolloff mean', 'Centroid STD', 'Rolloff STD', 'Centroid p-t-p value',\n",
    "       'Rolloff p-t-p value', 'Centroid_percentile', 'Rolloff_percentile',\n",
    "       'MFCC mean 1', 'MFCC mean 2', 'MFCC mean 3', 'MFCC mean 4',\n",
    "       'MFCC mean 5', 'MFCC mean 6', 'MFCC mean 7', 'MFCC mean 8',\n",
    "       'MFCC mean 9', 'MFCC mean 10', 'MFCC mean 11', 'MFCC mean 12',\n",
    "       'MFCC mean 13', 'MFCC delta 1', 'MFCC delta 2', 'MFCC delta 3',\n",
    "       'MFCC delta 4', 'MFCC delta 5', 'MFCC delta 6', 'MFCC delta 7',\n",
    "       'MFCC delta 8', 'MFCC delta 9', 'MFCC delta 10', 'MFCC delta 11',\n",
    "       'MFCC delta 12', 'MFCC delta 13', 'MFCC delta 2 1', 'MFCC delta 2 2',\n",
    "       'MFCC delta 2 3', 'MFCC delta 2 4', 'MFCC delta 2 5', 'MFCC delta 2 6',\n",
    "       'MFCC delta 2 7', 'MFCC delta 2 8', 'MFCC delta 2 9', 'MFCC delta 2 10',\n",
    "       'MFCC delta 2 11', 'MFCC delta 2 12', 'MFCC delta 2 13']"
   ]
  },
  {
   "cell_type": "code",
   "execution_count": 4,
   "id": "fc31ddbc-6675-4cd5-ab1e-e2440010b038",
   "metadata": {},
   "outputs": [],
   "source": [
    "def train_model(df, params):\n",
    "    k_fold = StratifiedKFold(n_splits=5, shuffle=True)\n",
    "    splits = k_fold.split(df, df[\"Label\"])\n",
    "\n",
    "    test_result = []\n",
    "    train_result = []\n",
    "\n",
    "    encode_labels = preprocessing.LabelEncoder()\n",
    "    encode_labels.fit(df[\"Label\"])\n",
    "    labels = encode_labels.transform(df[\"Label\"])\n",
    "\n",
    "    for train_index, test_index in splits:\n",
    "\n",
    "        df = df[columns]\n",
    "        train_x = df.loc[train_index]\n",
    "        test_x = df.loc[test_index]\n",
    "        labels_train = labels[train_index]\n",
    "        labels_test = labels[test_index]\n",
    "\n",
    "        # model = Baseline()\n",
    "        model = LogisticRegression(C=30, solver='newton-cg')\n",
    "        # model = RandomForestClassifier(**params)\n",
    "        # model = SVC(**params)\n",
    "        # model = LightGBMInterface(params=params)\n",
    "\n",
    "        model.fit(train_x, labels_train)\n",
    "        y_predict_test = model.predict(test_x)\n",
    "        y_predict_train = model.predict(train_x)\n",
    "        score_test = f1_score(labels_test, y_predict_test)\n",
    "        score_train = f1_score(labels_train, y_predict_train)\n",
    "        print(classification_report(labels_test, y_predict_test))\n",
    "        test_result.append(score_test)\n",
    "        train_result.append(score_train)\n",
    "    return test_result, train_result"
   ]
  },
  {
   "cell_type": "code",
   "execution_count": 16,
   "id": "5f9d5c81-59c9-419f-bd65-bbbe9b3b8dd6",
   "metadata": {},
   "outputs": [
    {
     "name": "stderr",
     "output_type": "stream",
     "text": [
      "c:\\users\\admin\\projects\\voice-anomaly-detector\\venv\\lib\\site-packages\\scipy\\optimize\\linesearch.py:478: LineSearchWarning: The line search algorithm did not converge\n",
      "  warn('The line search algorithm did not converge', LineSearchWarning)\n",
      "c:\\users\\admin\\projects\\voice-anomaly-detector\\venv\\lib\\site-packages\\scipy\\optimize\\linesearch.py:327: LineSearchWarning: The line search algorithm did not converge\n",
      "  warn('The line search algorithm did not converge', LineSearchWarning)\n",
      "c:\\users\\admin\\projects\\voice-anomaly-detector\\venv\\lib\\site-packages\\sklearn\\utils\\optimize.py:202: ConvergenceWarning: newton-cg failed to converge. Increase the number of iterations.\n",
      "  warnings.warn(\"newton-cg failed to converge. Increase the \"\n"
     ]
    },
    {
     "name": "stdout",
     "output_type": "stream",
     "text": [
      "              precision    recall  f1-score   support\n",
      "\n",
      "           0       0.68      0.72      0.70       138\n",
      "           1       0.70      0.66      0.68       137\n",
      "\n",
      "    accuracy                           0.69       275\n",
      "   macro avg       0.69      0.69      0.69       275\n",
      "weighted avg       0.69      0.69      0.69       275\n",
      "\n"
     ]
    },
    {
     "name": "stderr",
     "output_type": "stream",
     "text": [
      "c:\\users\\admin\\projects\\voice-anomaly-detector\\venv\\lib\\site-packages\\scipy\\optimize\\linesearch.py:478: LineSearchWarning: The line search algorithm did not converge\n",
      "  warn('The line search algorithm did not converge', LineSearchWarning)\n",
      "c:\\users\\admin\\projects\\voice-anomaly-detector\\venv\\lib\\site-packages\\scipy\\optimize\\linesearch.py:327: LineSearchWarning: The line search algorithm did not converge\n",
      "  warn('The line search algorithm did not converge', LineSearchWarning)\n",
      "c:\\users\\admin\\projects\\voice-anomaly-detector\\venv\\lib\\site-packages\\scipy\\optimize\\linesearch.py:478: LineSearchWarning: The line search algorithm did not converge\n",
      "  warn('The line search algorithm did not converge', LineSearchWarning)\n",
      "c:\\users\\admin\\projects\\voice-anomaly-detector\\venv\\lib\\site-packages\\scipy\\optimize\\linesearch.py:327: LineSearchWarning: The line search algorithm did not converge\n",
      "  warn('The line search algorithm did not converge', LineSearchWarning)\n",
      "c:\\users\\admin\\projects\\voice-anomaly-detector\\venv\\lib\\site-packages\\sklearn\\utils\\optimize.py:202: ConvergenceWarning: newton-cg failed to converge. Increase the number of iterations.\n",
      "  warnings.warn(\"newton-cg failed to converge. Increase the \"\n"
     ]
    },
    {
     "name": "stdout",
     "output_type": "stream",
     "text": [
      "              precision    recall  f1-score   support\n",
      "\n",
      "           0       0.73      0.78      0.76       138\n",
      "           1       0.76      0.71      0.73       137\n",
      "\n",
      "    accuracy                           0.75       275\n",
      "   macro avg       0.75      0.75      0.75       275\n",
      "weighted avg       0.75      0.75      0.75       275\n",
      "\n"
     ]
    },
    {
     "name": "stderr",
     "output_type": "stream",
     "text": [
      "c:\\users\\admin\\projects\\voice-anomaly-detector\\venv\\lib\\site-packages\\scipy\\optimize\\linesearch.py:478: LineSearchWarning: The line search algorithm did not converge\n",
      "  warn('The line search algorithm did not converge', LineSearchWarning)\n",
      "c:\\users\\admin\\projects\\voice-anomaly-detector\\venv\\lib\\site-packages\\scipy\\optimize\\linesearch.py:327: LineSearchWarning: The line search algorithm did not converge\n",
      "  warn('The line search algorithm did not converge', LineSearchWarning)\n",
      "c:\\users\\admin\\projects\\voice-anomaly-detector\\venv\\lib\\site-packages\\sklearn\\utils\\optimize.py:202: ConvergenceWarning: newton-cg failed to converge. Increase the number of iterations.\n",
      "  warnings.warn(\"newton-cg failed to converge. Increase the \"\n"
     ]
    },
    {
     "name": "stdout",
     "output_type": "stream",
     "text": [
      "              precision    recall  f1-score   support\n",
      "\n",
      "           0       0.64      0.74      0.69       137\n",
      "           1       0.69      0.59      0.64       138\n",
      "\n",
      "    accuracy                           0.67       275\n",
      "   macro avg       0.67      0.67      0.66       275\n",
      "weighted avg       0.67      0.67      0.66       275\n",
      "\n"
     ]
    },
    {
     "name": "stderr",
     "output_type": "stream",
     "text": [
      "c:\\users\\admin\\projects\\voice-anomaly-detector\\venv\\lib\\site-packages\\sklearn\\utils\\optimize.py:202: ConvergenceWarning: newton-cg failed to converge. Increase the number of iterations.\n",
      "  warnings.warn(\"newton-cg failed to converge. Increase the \"\n"
     ]
    },
    {
     "name": "stdout",
     "output_type": "stream",
     "text": [
      "              precision    recall  f1-score   support\n",
      "\n",
      "           0       0.69      0.76      0.72       137\n",
      "           1       0.74      0.67      0.70       138\n",
      "\n",
      "    accuracy                           0.71       275\n",
      "   macro avg       0.71      0.71      0.71       275\n",
      "weighted avg       0.71      0.71      0.71       275\n",
      "\n",
      "              precision    recall  f1-score   support\n",
      "\n",
      "           0       0.74      0.74      0.74       137\n",
      "           1       0.74      0.74      0.74       137\n",
      "\n",
      "    accuracy                           0.74       274\n",
      "   macro avg       0.74      0.74      0.74       274\n",
      "weighted avg       0.74      0.74      0.74       274\n",
      "\n",
      "Test score: 0.6988530559314421\n",
      "STD: 0.03676486782060712\n",
      "Train score:  0.7104437278383111\n",
      "STD:  0.006847005269814255\n"
     ]
    },
    {
     "name": "stderr",
     "output_type": "stream",
     "text": [
      "c:\\users\\admin\\projects\\voice-anomaly-detector\\venv\\lib\\site-packages\\scipy\\optimize\\linesearch.py:478: LineSearchWarning: The line search algorithm did not converge\n",
      "  warn('The line search algorithm did not converge', LineSearchWarning)\n",
      "c:\\users\\admin\\projects\\voice-anomaly-detector\\venv\\lib\\site-packages\\scipy\\optimize\\linesearch.py:327: LineSearchWarning: The line search algorithm did not converge\n",
      "  warn('The line search algorithm did not converge', LineSearchWarning)\n",
      "c:\\users\\admin\\projects\\voice-anomaly-detector\\venv\\lib\\site-packages\\scipy\\optimize\\linesearch.py:478: LineSearchWarning: The line search algorithm did not converge\n",
      "  warn('The line search algorithm did not converge', LineSearchWarning)\n",
      "c:\\users\\admin\\projects\\voice-anomaly-detector\\venv\\lib\\site-packages\\scipy\\optimize\\linesearch.py:327: LineSearchWarning: The line search algorithm did not converge\n",
      "  warn('The line search algorithm did not converge', LineSearchWarning)\n",
      "c:\\users\\admin\\projects\\voice-anomaly-detector\\venv\\lib\\site-packages\\sklearn\\utils\\optimize.py:202: ConvergenceWarning: newton-cg failed to converge. Increase the number of iterations.\n",
      "  warnings.warn(\"newton-cg failed to converge. Increase the \"\n"
     ]
    }
   ],
   "source": [
    "if __name__ == '__main__':\n",
    "    df = pd.read_csv('../data/features.csv')\n",
    "\n",
    "    params = {'n_estimators': 100, 'max_depth': 30, 'min_samples_split': 50, 'min_samples_leaf': 20, 'max_samples': 100}\n",
    "    # Random Forest params\n",
    "    # params = {'num_iterations': 40, 'num_leaves': 50, 'min_data_in_leaf': 40, 'objective': 'binary'}  # LightGBM params\n",
    "    # params = {'C': 5, 'kernel': 'sigmoid', 'gamma': 'auto'} # SVM params\n",
    "\n",
    "    test_result, train_result = train_model(df, params)\n",
    "\n",
    "    result_test_mean = np.mean(test_result)\n",
    "    result_test_std = np.std(test_result)\n",
    "    print(f'Test score: {result_test_mean}')\n",
    "    print(f'STD: {result_test_std}')\n",
    "\n",
    "    result_train_mean = np.mean(train_result)\n",
    "    result_train_std = np.std(train_result)\n",
    "    print('Train score: ', result_train_mean)\n",
    "    print('STD: ', result_train_std)"
   ]
  },
  {
   "cell_type": "code",
   "execution_count": null,
   "id": "79989217-4e85-413f-ba20-1c7285262bf5",
   "metadata": {},
   "outputs": [],
   "source": []
  }
 ],
 "metadata": {
  "kernelspec": {
   "display_name": "Python 3 (ipykernel)",
   "language": "python",
   "name": "python3"
  },
  "language_info": {
   "codemirror_mode": {
    "name": "ipython",
    "version": 3
   },
   "file_extension": ".py",
   "mimetype": "text/x-python",
   "name": "python",
   "nbconvert_exporter": "python",
   "pygments_lexer": "ipython3",
   "version": "3.9.7"
  }
 },
 "nbformat": 4,
 "nbformat_minor": 5
}
